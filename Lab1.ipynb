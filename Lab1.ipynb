{
 "cells": [
  {
   "cell_type": "markdown",
   "id": "c71d2e10-d67a-43b7-a417-50f2b5ef6dd1",
   "metadata": {},
   "source": [
    "# Лабораторная работа №1\n",
    "\n",
    "### Разведочный анализ данных с помощью PySpark\n",
    "\n",
    "### Цели и задачи:\n",
    "1. Познакомиться с понятием «большие данные» и способами их обработки;\n",
    "2. Познакомиться с инструментом Apache Spark и возможностями, которые он предоставляет для обработки больших данных;\n",
    "3. Получить навыки выполнения разведочного анализа данных использованием pyspark.\n",
    "\n",
    "\n",
    "# Ход работы"
   ]
  },
  {
   "cell_type": "code",
   "execution_count": 4,
   "id": "f4bf0b03-a844-429d-beee-4e3029977cdd",
   "metadata": {},
   "outputs": [],
   "source": [
    "# Import other modules not related to PySpark\n",
    "import os\n",
    "import sys\n",
    "import pandas as pd\n",
    "from pandas import DataFrame\n",
    "import numpy as np\n",
    "import matplotlib.pyplot as plt\n",
    "import matplotlib.ticker as mtick\n",
    "import matplotlib\n",
    "from mpl_toolkits.mplot3d import Axes3D\n",
    "import math\n",
    "from IPython.core.interactiveshell import InteractiveShell\n",
    "from datetime import *\n",
    "import statistics as stats\n",
    "# This helps auto print out the items without explixitly using 'print'\n",
    "InteractiveShell.ast_node_interactivity = \"all\" \n",
    "%matplotlib inline"
   ]
  },
  {
   "cell_type": "markdown",
   "id": "b6933eb4-81f2-414f-82cd-b1db9601b1cf",
   "metadata": {},
   "source": [
    "# Обзор датасета"
   ]
  },
  {
   "cell_type": "code",
   "execution_count": 5,
   "id": "e33c3267-4cba-469c-b9ca-bd82d600ea9a",
   "metadata": {},
   "outputs": [
    {
     "data": {
      "text/html": [
       "<div>\n",
       "<style scoped>\n",
       "    .dataframe tbody tr th:only-of-type {\n",
       "        vertical-align: middle;\n",
       "    }\n",
       "\n",
       "    .dataframe tbody tr th {\n",
       "        vertical-align: top;\n",
       "    }\n",
       "\n",
       "    .dataframe thead th {\n",
       "        text-align: right;\n",
       "    }\n",
       "</style>\n",
       "<table border=\"1\" class=\"dataframe\">\n",
       "  <thead>\n",
       "    <tr style=\"text-align: right;\">\n",
       "      <th></th>\n",
       "      <th>travelDuration</th>\n",
       "      <th>elapsedDays</th>\n",
       "      <th>isBasicEconomy</th>\n",
       "      <th>isRefundable</th>\n",
       "      <th>isNonStop</th>\n",
       "      <th>baseFare</th>\n",
       "      <th>totalFare</th>\n",
       "      <th>seatsRemaining</th>\n",
       "      <th>totalTravelDistance</th>\n",
       "    </tr>\n",
       "  </thead>\n",
       "  <tbody>\n",
       "    <tr>\n",
       "      <th>0</th>\n",
       "      <td>PT2H29M</td>\n",
       "      <td>0</td>\n",
       "      <td>False</td>\n",
       "      <td>False</td>\n",
       "      <td>True</td>\n",
       "      <td>217.67</td>\n",
       "      <td>248.6</td>\n",
       "      <td>9</td>\n",
       "      <td>947</td>\n",
       "    </tr>\n",
       "    <tr>\n",
       "      <th>1</th>\n",
       "      <td>PT2H30M</td>\n",
       "      <td>0</td>\n",
       "      <td>False</td>\n",
       "      <td>False</td>\n",
       "      <td>True</td>\n",
       "      <td>217.67</td>\n",
       "      <td>248.6</td>\n",
       "      <td>4</td>\n",
       "      <td>947</td>\n",
       "    </tr>\n",
       "    <tr>\n",
       "      <th>2</th>\n",
       "      <td>PT2H30M</td>\n",
       "      <td>0</td>\n",
       "      <td>False</td>\n",
       "      <td>False</td>\n",
       "      <td>True</td>\n",
       "      <td>217.67</td>\n",
       "      <td>248.6</td>\n",
       "      <td>9</td>\n",
       "      <td>947</td>\n",
       "    </tr>\n",
       "    <tr>\n",
       "      <th>3</th>\n",
       "      <td>PT2H32M</td>\n",
       "      <td>0</td>\n",
       "      <td>False</td>\n",
       "      <td>False</td>\n",
       "      <td>True</td>\n",
       "      <td>217.67</td>\n",
       "      <td>248.6</td>\n",
       "      <td>8</td>\n",
       "      <td>947</td>\n",
       "    </tr>\n",
       "    <tr>\n",
       "      <th>4</th>\n",
       "      <td>PT2H34M</td>\n",
       "      <td>0</td>\n",
       "      <td>False</td>\n",
       "      <td>False</td>\n",
       "      <td>True</td>\n",
       "      <td>217.67</td>\n",
       "      <td>248.6</td>\n",
       "      <td>9</td>\n",
       "      <td>947</td>\n",
       "    </tr>\n",
       "    <tr>\n",
       "      <th>5</th>\n",
       "      <td>PT2H38M</td>\n",
       "      <td>0</td>\n",
       "      <td>False</td>\n",
       "      <td>False</td>\n",
       "      <td>True</td>\n",
       "      <td>217.67</td>\n",
       "      <td>248.6</td>\n",
       "      <td>7</td>\n",
       "      <td>947</td>\n",
       "    </tr>\n",
       "    <tr>\n",
       "      <th>6</th>\n",
       "      <td>PT4H12M</td>\n",
       "      <td>0</td>\n",
       "      <td>False</td>\n",
       "      <td>False</td>\n",
       "      <td>False</td>\n",
       "      <td>213.02</td>\n",
       "      <td>251.1</td>\n",
       "      <td>3</td>\n",
       "      <td>956</td>\n",
       "    </tr>\n",
       "    <tr>\n",
       "      <th>7</th>\n",
       "      <td>PT5H18M</td>\n",
       "      <td>0</td>\n",
       "      <td>False</td>\n",
       "      <td>False</td>\n",
       "      <td>False</td>\n",
       "      <td>213.02</td>\n",
       "      <td>251.1</td>\n",
       "      <td>3</td>\n",
       "      <td>956</td>\n",
       "    </tr>\n",
       "    <tr>\n",
       "      <th>8</th>\n",
       "      <td>PT5H32M</td>\n",
       "      <td>0</td>\n",
       "      <td>False</td>\n",
       "      <td>False</td>\n",
       "      <td>False</td>\n",
       "      <td>213.02</td>\n",
       "      <td>251.1</td>\n",
       "      <td>7</td>\n",
       "      <td>956</td>\n",
       "    </tr>\n",
       "    <tr>\n",
       "      <th>9</th>\n",
       "      <td>PT6H38M</td>\n",
       "      <td>0</td>\n",
       "      <td>False</td>\n",
       "      <td>False</td>\n",
       "      <td>False</td>\n",
       "      <td>213.02</td>\n",
       "      <td>251.1</td>\n",
       "      <td>7</td>\n",
       "      <td>956</td>\n",
       "    </tr>\n",
       "  </tbody>\n",
       "</table>\n",
       "</div>"
      ],
      "text/plain": [
       "  travelDuration  elapsedDays  isBasicEconomy  isRefundable  isNonStop  \\\n",
       "0        PT2H29M            0           False         False       True   \n",
       "1        PT2H30M            0           False         False       True   \n",
       "2        PT2H30M            0           False         False       True   \n",
       "3        PT2H32M            0           False         False       True   \n",
       "4        PT2H34M            0           False         False       True   \n",
       "5        PT2H38M            0           False         False       True   \n",
       "6        PT4H12M            0           False         False      False   \n",
       "7        PT5H18M            0           False         False      False   \n",
       "8        PT5H32M            0           False         False      False   \n",
       "9        PT6H38M            0           False         False      False   \n",
       "\n",
       "   baseFare  totalFare  seatsRemaining  totalTravelDistance  \n",
       "0    217.67      248.6               9                  947  \n",
       "1    217.67      248.6               4                  947  \n",
       "2    217.67      248.6               9                  947  \n",
       "3    217.67      248.6               8                  947  \n",
       "4    217.67      248.6               9                  947  \n",
       "5    217.67      248.6               7                  947  \n",
       "6    213.02      251.1               3                  956  \n",
       "7    213.02      251.1               3                  956  \n",
       "8    213.02      251.1               7                  956  \n",
       "9    213.02      251.1               7                  956  "
      ]
     },
     "execution_count": 5,
     "metadata": {},
     "output_type": "execute_result"
    }
   ],
   "source": [
    "# Import PySpark related modules\n",
    "import pyspark\n",
    "from pyspark.rdd import RDD\n",
    "from pyspark.sql import Row\n",
    "from pyspark.sql import DataFrame\n",
    "from pyspark.sql import SparkSession\n",
    "from pyspark.sql import SQLContext\n",
    "from pyspark.sql import functions\n",
    "from pyspark.sql.functions import lit, desc, col, size, array_contains\\\n",
    ", isnan, udf, hour, array_min, array_max, countDistinct\n",
    "from pyspark.sql.types import *\n",
    "\n",
    "MAX_MEMORY = '15G'\n",
    "# Initialize a spark session.\n",
    "conf = pyspark.SparkConf().setMaster(\"local[*]\") \\\n",
    "        .set('spark.executor.heartbeatInterval', 10000) \\\n",
    "        .set('spark.network.timeout', 10000) \\\n",
    "        .set(\"spark.core.connection.ack.wait.timeout\", \"3600\") \\\n",
    "        .set(\"spark.executor.memory\", MAX_MEMORY) \\\n",
    "        .set(\"spark.driver.memory\", MAX_MEMORY)\n",
    "def init_spark():\n",
    "    spark = SparkSession \\\n",
    "        .builder \\\n",
    "        .appName(\"Pyspark guide\") \\\n",
    "        .config(conf=conf) \\\n",
    "        .getOrCreate()\n",
    "    return spark\n",
    "\n",
    "spark = init_spark()\n",
    "# Укажите путь к CSV файлу\n",
    "csv_file_path = \"itineraries.csv\"\n",
    "\n",
    "# Прочитайте CSV файл в DataFrame\n",
    "df = spark.read.csv(csv_file_path, header=True, sep=',', inferSchema=True)\n",
    "\n",
    "drop_columns = ['legId', 'searchDate', 'flightDate', 'startingAirport', 'destinationAirport', 'fareBasisCode', 'segmentsCabinCode', 'segmentsDepartureTimeEpochSeconds', 'segmentsDepartureTimeRaw', 'segmentsArrivalTimeEpochSeconds',\n",
    "                'segmentsArrivalTimeRaw', 'segmentsArrivalAirportCode', 'segmentsDepartureAirportCode', 'segmentsAirlineName', 'segmentsAirlineCode', 'segmentsEquipmentDescription',\n",
    "               'segmentsDurationInSeconds', 'segmentsDistance', 'segmentsCabinCode']\n",
    "\n",
    "df = df.select([col for col in df.columns if col not in drop_columns])\n",
    "\n",
    "limited_data_pandas = df.limit(10)\n",
    "\n",
    "limited_data_pandas.toPandas()"
   ]
  },
  {
   "cell_type": "markdown",
   "id": "57c363cb-c2b5-4b12-933d-1e13b489929e",
   "metadata": {},
   "source": [
    "# Определение типов данных колонок"
   ]
  },
  {
   "cell_type": "code",
   "execution_count": 6,
   "id": "dd8b0f41-882c-451b-8605-28a0048d66ea",
   "metadata": {},
   "outputs": [
    {
     "name": "stdout",
     "output_type": "stream",
     "text": [
      "Columns overview\n",
      "           Column Name Data type Feature Type\n",
      "0       travelDuration    string    Строковый\n",
      "1          elapsedDays       int     Числовой\n",
      "2       isBasicEconomy   boolean      Булевый\n",
      "3         isRefundable   boolean      Булевый\n",
      "4            isNonStop   boolean      Булевый\n",
      "5             baseFare    double     Числовой\n",
      "6            totalFare    double     Числовой\n",
      "7       seatsRemaining       int     Числовой\n",
      "8  totalTravelDistance       int     Числовой\n"
     ]
    }
   ],
   "source": [
    "data_types_df = pd.DataFrame(df.dtypes, columns=['Column Name', 'Data type'])\n",
    "\n",
    "# Добавление колонки с типами признаков данных\n",
    "data_types = []\n",
    "for col in data_types_df['Data type']:\n",
    "    if 'timestamp' in col.lower():\n",
    "        data_types.append('Временной')\n",
    "    elif 'int' in col.lower() or 'double' in col.lower() or 'float' in col.lower():\n",
    "        data_types.append('Числовой')\n",
    "    elif 'string' in col.lower():\n",
    "        data_types.append('Строковый')\n",
    "    elif 'boolean' in col.lower():\n",
    "        data_types.append('Булевый')\n",
    "    else:\n",
    "        data_types.append('Неопределенный')\n",
    "\n",
    "data_types_df['Feature Type'] = data_types\n",
    "\n",
    "# Вывод типов признаков\n",
    "print('Columns overview')\n",
    "print(data_types_df)"
   ]
  },
  {
   "cell_type": "markdown",
   "id": "04f0b059-871b-42fd-bf42-a6ecdfa2516f",
   "metadata": {},
   "source": [
    "# Преобразование длительности полета в числовое значение (минуты полета)"
   ]
  },
  {
   "cell_type": "code",
   "execution_count": 7,
   "id": "11fa0510-4dbc-4023-a47f-babda09e8bd8",
   "metadata": {},
   "outputs": [
    {
     "data": {
      "text/html": [
       "<div>\n",
       "<style scoped>\n",
       "    .dataframe tbody tr th:only-of-type {\n",
       "        vertical-align: middle;\n",
       "    }\n",
       "\n",
       "    .dataframe tbody tr th {\n",
       "        vertical-align: top;\n",
       "    }\n",
       "\n",
       "    .dataframe thead th {\n",
       "        text-align: right;\n",
       "    }\n",
       "</style>\n",
       "<table border=\"1\" class=\"dataframe\">\n",
       "  <thead>\n",
       "    <tr style=\"text-align: right;\">\n",
       "      <th></th>\n",
       "      <th>elapsedDays</th>\n",
       "      <th>isBasicEconomy</th>\n",
       "      <th>isRefundable</th>\n",
       "      <th>isNonStop</th>\n",
       "      <th>baseFare</th>\n",
       "      <th>totalFare</th>\n",
       "      <th>seatsRemaining</th>\n",
       "      <th>totalTravelDistance</th>\n",
       "      <th>travelDuration_inMinutes</th>\n",
       "    </tr>\n",
       "  </thead>\n",
       "  <tbody>\n",
       "    <tr>\n",
       "      <th>0</th>\n",
       "      <td>0</td>\n",
       "      <td>False</td>\n",
       "      <td>False</td>\n",
       "      <td>True</td>\n",
       "      <td>217.67</td>\n",
       "      <td>248.6</td>\n",
       "      <td>9</td>\n",
       "      <td>947</td>\n",
       "      <td>149</td>\n",
       "    </tr>\n",
       "    <tr>\n",
       "      <th>1</th>\n",
       "      <td>0</td>\n",
       "      <td>False</td>\n",
       "      <td>False</td>\n",
       "      <td>True</td>\n",
       "      <td>217.67</td>\n",
       "      <td>248.6</td>\n",
       "      <td>4</td>\n",
       "      <td>947</td>\n",
       "      <td>150</td>\n",
       "    </tr>\n",
       "    <tr>\n",
       "      <th>2</th>\n",
       "      <td>0</td>\n",
       "      <td>False</td>\n",
       "      <td>False</td>\n",
       "      <td>True</td>\n",
       "      <td>217.67</td>\n",
       "      <td>248.6</td>\n",
       "      <td>9</td>\n",
       "      <td>947</td>\n",
       "      <td>150</td>\n",
       "    </tr>\n",
       "    <tr>\n",
       "      <th>3</th>\n",
       "      <td>0</td>\n",
       "      <td>False</td>\n",
       "      <td>False</td>\n",
       "      <td>True</td>\n",
       "      <td>217.67</td>\n",
       "      <td>248.6</td>\n",
       "      <td>8</td>\n",
       "      <td>947</td>\n",
       "      <td>152</td>\n",
       "    </tr>\n",
       "    <tr>\n",
       "      <th>4</th>\n",
       "      <td>0</td>\n",
       "      <td>False</td>\n",
       "      <td>False</td>\n",
       "      <td>True</td>\n",
       "      <td>217.67</td>\n",
       "      <td>248.6</td>\n",
       "      <td>9</td>\n",
       "      <td>947</td>\n",
       "      <td>154</td>\n",
       "    </tr>\n",
       "    <tr>\n",
       "      <th>5</th>\n",
       "      <td>0</td>\n",
       "      <td>False</td>\n",
       "      <td>False</td>\n",
       "      <td>True</td>\n",
       "      <td>217.67</td>\n",
       "      <td>248.6</td>\n",
       "      <td>7</td>\n",
       "      <td>947</td>\n",
       "      <td>158</td>\n",
       "    </tr>\n",
       "    <tr>\n",
       "      <th>6</th>\n",
       "      <td>0</td>\n",
       "      <td>False</td>\n",
       "      <td>False</td>\n",
       "      <td>False</td>\n",
       "      <td>213.02</td>\n",
       "      <td>251.1</td>\n",
       "      <td>3</td>\n",
       "      <td>956</td>\n",
       "      <td>252</td>\n",
       "    </tr>\n",
       "    <tr>\n",
       "      <th>7</th>\n",
       "      <td>0</td>\n",
       "      <td>False</td>\n",
       "      <td>False</td>\n",
       "      <td>False</td>\n",
       "      <td>213.02</td>\n",
       "      <td>251.1</td>\n",
       "      <td>3</td>\n",
       "      <td>956</td>\n",
       "      <td>318</td>\n",
       "    </tr>\n",
       "    <tr>\n",
       "      <th>8</th>\n",
       "      <td>0</td>\n",
       "      <td>False</td>\n",
       "      <td>False</td>\n",
       "      <td>False</td>\n",
       "      <td>213.02</td>\n",
       "      <td>251.1</td>\n",
       "      <td>7</td>\n",
       "      <td>956</td>\n",
       "      <td>332</td>\n",
       "    </tr>\n",
       "    <tr>\n",
       "      <th>9</th>\n",
       "      <td>0</td>\n",
       "      <td>False</td>\n",
       "      <td>False</td>\n",
       "      <td>False</td>\n",
       "      <td>213.02</td>\n",
       "      <td>251.1</td>\n",
       "      <td>7</td>\n",
       "      <td>956</td>\n",
       "      <td>398</td>\n",
       "    </tr>\n",
       "  </tbody>\n",
       "</table>\n",
       "</div>"
      ],
      "text/plain": [
       "   elapsedDays  isBasicEconomy  isRefundable  isNonStop  baseFare  totalFare  \\\n",
       "0            0           False         False       True    217.67      248.6   \n",
       "1            0           False         False       True    217.67      248.6   \n",
       "2            0           False         False       True    217.67      248.6   \n",
       "3            0           False         False       True    217.67      248.6   \n",
       "4            0           False         False       True    217.67      248.6   \n",
       "5            0           False         False       True    217.67      248.6   \n",
       "6            0           False         False      False    213.02      251.1   \n",
       "7            0           False         False      False    213.02      251.1   \n",
       "8            0           False         False      False    213.02      251.1   \n",
       "9            0           False         False      False    213.02      251.1   \n",
       "\n",
       "   seatsRemaining  totalTravelDistance  travelDuration_inMinutes  \n",
       "0               9                  947                       149  \n",
       "1               4                  947                       150  \n",
       "2               9                  947                       150  \n",
       "3               8                  947                       152  \n",
       "4               9                  947                       154  \n",
       "5               7                  947                       158  \n",
       "6               3                  956                       252  \n",
       "7               3                  956                       318  \n",
       "8               7                  956                       332  \n",
       "9               7                  956                       398  "
      ]
     },
     "execution_count": 7,
     "metadata": {},
     "output_type": "execute_result"
    }
   ],
   "source": [
    "from pyspark.sql.functions import col, regexp_extract\n",
    "# Функция для преобразования формата \"PT2H29M\" в минуты и записи в новую колонку\n",
    "def convert_duration_to_minutes(df, column):\n",
    "    # Извлекаем часы и минуты из строки\n",
    "    hours = regexp_extract(col(column), r'PT(\\d+)H', 1).cast('int')\n",
    "    minutes = regexp_extract(col(column), r'(\\d+)M', 1).cast('int')\n",
    "    \n",
    "    # Выполняем необходимые вычисления\n",
    "    minutes_in_total = hours * 60 + minutes\n",
    "    \n",
    "    # Добавляем новую колонку\n",
    "    df = df.withColumn(f\"{column}_inMinutes\", minutes_in_total)\n",
    "    \n",
    "    return df\n",
    "\n",
    "# Применяем функцию для указанной колонки \"travelDuration\"\n",
    "df = convert_duration_to_minutes(df, \"travelDuration\")\n",
    "\n",
    "df = df.drop(\"travelDuration\")\n",
    "\n",
    "# Печатаем DataFrame с новой колонкой\n",
    "limited_data_pandas = df.limit(10)\n",
    "\n",
    "limited_data_pandas.toPandas()"
   ]
  },
  {
   "cell_type": "markdown",
   "id": "6064dc11-ba58-4c4d-9eec-d700e9bc48fe",
   "metadata": {},
   "source": [
    "# Преобразование elapsedDays в булевый тип"
   ]
  },
  {
   "cell_type": "code",
   "execution_count": 8,
   "id": "72ce5709-549e-43a9-b44b-a063b15e5982",
   "metadata": {},
   "outputs": [
    {
     "data": {
      "text/html": [
       "<div>\n",
       "<style scoped>\n",
       "    .dataframe tbody tr th:only-of-type {\n",
       "        vertical-align: middle;\n",
       "    }\n",
       "\n",
       "    .dataframe tbody tr th {\n",
       "        vertical-align: top;\n",
       "    }\n",
       "\n",
       "    .dataframe thead th {\n",
       "        text-align: right;\n",
       "    }\n",
       "</style>\n",
       "<table border=\"1\" class=\"dataframe\">\n",
       "  <thead>\n",
       "    <tr style=\"text-align: right;\">\n",
       "      <th></th>\n",
       "      <th>isBasicEconomy</th>\n",
       "      <th>isRefundable</th>\n",
       "      <th>isNonStop</th>\n",
       "      <th>baseFare</th>\n",
       "      <th>totalFare</th>\n",
       "      <th>seatsRemaining</th>\n",
       "      <th>totalTravelDistance</th>\n",
       "      <th>travelDuration_inMinutes</th>\n",
       "      <th>elapsedDays_bool</th>\n",
       "    </tr>\n",
       "  </thead>\n",
       "  <tbody>\n",
       "    <tr>\n",
       "      <th>0</th>\n",
       "      <td>False</td>\n",
       "      <td>False</td>\n",
       "      <td>True</td>\n",
       "      <td>217.67</td>\n",
       "      <td>248.6</td>\n",
       "      <td>9</td>\n",
       "      <td>947</td>\n",
       "      <td>149</td>\n",
       "      <td>False</td>\n",
       "    </tr>\n",
       "    <tr>\n",
       "      <th>1</th>\n",
       "      <td>False</td>\n",
       "      <td>False</td>\n",
       "      <td>True</td>\n",
       "      <td>217.67</td>\n",
       "      <td>248.6</td>\n",
       "      <td>4</td>\n",
       "      <td>947</td>\n",
       "      <td>150</td>\n",
       "      <td>False</td>\n",
       "    </tr>\n",
       "    <tr>\n",
       "      <th>2</th>\n",
       "      <td>False</td>\n",
       "      <td>False</td>\n",
       "      <td>True</td>\n",
       "      <td>217.67</td>\n",
       "      <td>248.6</td>\n",
       "      <td>9</td>\n",
       "      <td>947</td>\n",
       "      <td>150</td>\n",
       "      <td>False</td>\n",
       "    </tr>\n",
       "    <tr>\n",
       "      <th>3</th>\n",
       "      <td>False</td>\n",
       "      <td>False</td>\n",
       "      <td>True</td>\n",
       "      <td>217.67</td>\n",
       "      <td>248.6</td>\n",
       "      <td>8</td>\n",
       "      <td>947</td>\n",
       "      <td>152</td>\n",
       "      <td>False</td>\n",
       "    </tr>\n",
       "    <tr>\n",
       "      <th>4</th>\n",
       "      <td>False</td>\n",
       "      <td>False</td>\n",
       "      <td>True</td>\n",
       "      <td>217.67</td>\n",
       "      <td>248.6</td>\n",
       "      <td>9</td>\n",
       "      <td>947</td>\n",
       "      <td>154</td>\n",
       "      <td>False</td>\n",
       "    </tr>\n",
       "    <tr>\n",
       "      <th>5</th>\n",
       "      <td>False</td>\n",
       "      <td>False</td>\n",
       "      <td>True</td>\n",
       "      <td>217.67</td>\n",
       "      <td>248.6</td>\n",
       "      <td>7</td>\n",
       "      <td>947</td>\n",
       "      <td>158</td>\n",
       "      <td>False</td>\n",
       "    </tr>\n",
       "    <tr>\n",
       "      <th>6</th>\n",
       "      <td>False</td>\n",
       "      <td>False</td>\n",
       "      <td>False</td>\n",
       "      <td>213.02</td>\n",
       "      <td>251.1</td>\n",
       "      <td>3</td>\n",
       "      <td>956</td>\n",
       "      <td>252</td>\n",
       "      <td>False</td>\n",
       "    </tr>\n",
       "    <tr>\n",
       "      <th>7</th>\n",
       "      <td>False</td>\n",
       "      <td>False</td>\n",
       "      <td>False</td>\n",
       "      <td>213.02</td>\n",
       "      <td>251.1</td>\n",
       "      <td>3</td>\n",
       "      <td>956</td>\n",
       "      <td>318</td>\n",
       "      <td>False</td>\n",
       "    </tr>\n",
       "    <tr>\n",
       "      <th>8</th>\n",
       "      <td>False</td>\n",
       "      <td>False</td>\n",
       "      <td>False</td>\n",
       "      <td>213.02</td>\n",
       "      <td>251.1</td>\n",
       "      <td>7</td>\n",
       "      <td>956</td>\n",
       "      <td>332</td>\n",
       "      <td>False</td>\n",
       "    </tr>\n",
       "    <tr>\n",
       "      <th>9</th>\n",
       "      <td>False</td>\n",
       "      <td>False</td>\n",
       "      <td>False</td>\n",
       "      <td>213.02</td>\n",
       "      <td>251.1</td>\n",
       "      <td>7</td>\n",
       "      <td>956</td>\n",
       "      <td>398</td>\n",
       "      <td>False</td>\n",
       "    </tr>\n",
       "  </tbody>\n",
       "</table>\n",
       "</div>"
      ],
      "text/plain": [
       "   isBasicEconomy  isRefundable  isNonStop  baseFare  totalFare  \\\n",
       "0           False         False       True    217.67      248.6   \n",
       "1           False         False       True    217.67      248.6   \n",
       "2           False         False       True    217.67      248.6   \n",
       "3           False         False       True    217.67      248.6   \n",
       "4           False         False       True    217.67      248.6   \n",
       "5           False         False       True    217.67      248.6   \n",
       "6           False         False      False    213.02      251.1   \n",
       "7           False         False      False    213.02      251.1   \n",
       "8           False         False      False    213.02      251.1   \n",
       "9           False         False      False    213.02      251.1   \n",
       "\n",
       "   seatsRemaining  totalTravelDistance  travelDuration_inMinutes  \\\n",
       "0               9                  947                       149   \n",
       "1               4                  947                       150   \n",
       "2               9                  947                       150   \n",
       "3               8                  947                       152   \n",
       "4               9                  947                       154   \n",
       "5               7                  947                       158   \n",
       "6               3                  956                       252   \n",
       "7               3                  956                       318   \n",
       "8               7                  956                       332   \n",
       "9               7                  956                       398   \n",
       "\n",
       "   elapsedDays_bool  \n",
       "0             False  \n",
       "1             False  \n",
       "2             False  \n",
       "3             False  \n",
       "4             False  \n",
       "5             False  \n",
       "6             False  \n",
       "7             False  \n",
       "8             False  \n",
       "9             False  "
      ]
     },
     "execution_count": 8,
     "metadata": {},
     "output_type": "execute_result"
    }
   ],
   "source": [
    "from pyspark.sql.functions import col, when\n",
    "# Преобразование колонки elapsedDays в булевый тип\n",
    "df_transformed = df.withColumn(\n",
    "    \"elapsedDays_bool\",\n",
    "    when(col(\"elapsedDays\") == 0, False).otherwise(True)\n",
    ")\n",
    "\n",
    "df = df_transformed\n",
    "df = df.drop(\"elapsedDays\")\n",
    "\n",
    "# Печатаем DataFrame с новой колонкой\n",
    "limited_data_pandas = df.limit(10)\n",
    "\n",
    "limited_data_pandas.toPandas()"
   ]
  },
  {
   "cell_type": "markdown",
   "id": "8c1e7ca1-a8b6-45d5-b9db-7bf5a3ae62d2",
   "metadata": {},
   "source": [
    "# Поиск и удаление пустых значений"
   ]
  },
  {
   "cell_type": "code",
   "execution_count": 9,
   "id": "a022a014-198a-4bdc-9866-26cf7e238b5f",
   "metadata": {},
   "outputs": [
    {
     "name": "stdout",
     "output_type": "stream",
     "text": [
      "Количество пустых значений в колонке 'isBasicEconomy': 1\n",
      "Количество пустых значений в колонке 'isRefundable': 1\n",
      "Количество пустых значений в колонке 'isNonStop': 1\n",
      "Количество пустых значений в колонке 'baseFare': 1\n",
      "Количество пустых значений в колонке 'totalFare': 1\n",
      "Количество пустых значений в колонке 'seatsRemaining': 1\n",
      "Количество пустых значений в колонке 'totalTravelDistance': 1004282\n",
      "Количество пустых значений в колонке 'travelDuration_inMinutes': 307814\n",
      "Количество пустых значений в колонке 'elapsedDays_bool': 0\n"
     ]
    }
   ],
   "source": [
    "for col_name in df.columns:\n",
    "    count_missing = df.filter(col(col_name).isNull()).count()\n",
    "    print(f\"Количество пустых значений в колонке '{col_name}': {count_missing}\")\n"
   ]
  },
  {
   "cell_type": "code",
   "execution_count": 10,
   "id": "7fea54e4-8075-4e9f-bd32-c348d973daee",
   "metadata": {},
   "outputs": [
    {
     "name": "stdout",
     "output_type": "stream",
     "text": [
      "Количество пустых значений в колонке 'isBasicEconomy': 0\n",
      "Количество пустых значений в колонке 'isRefundable': 0\n",
      "Количество пустых значений в колонке 'isNonStop': 0\n",
      "Количество пустых значений в колонке 'baseFare': 0\n",
      "Количество пустых значений в колонке 'totalFare': 0\n",
      "Количество пустых значений в колонке 'seatsRemaining': 0\n",
      "Количество пустых значений в колонке 'totalTravelDistance': 0\n",
      "Количество пустых значений в колонке 'travelDuration_inMinutes': 0\n",
      "Количество пустых значений в колонке 'elapsedDays_bool': 0\n"
     ]
    }
   ],
   "source": [
    "# Удаляем строки с пустыми значениями\n",
    "df = df.na.drop()\n",
    "\n",
    "for col_name in df.columns:\n",
    "    count_missing = df.filter(col(col_name).isNull()).count()\n",
    "    print(f\"Количество пустых значений в колонке '{col_name}': {count_missing}\")"
   ]
  },
  {
   "cell_type": "markdown",
   "id": "fc9d0642-3bfb-4913-aef5-ea2113d76e3e",
   "metadata": {},
   "source": [
    "# Расчет статистических показателей "
   ]
  },
  {
   "cell_type": "code",
   "execution_count": 11,
   "id": "ba223f97-e952-4cf0-ab1b-ec9def512c2c",
   "metadata": {},
   "outputs": [
    {
     "name": "stdout",
     "output_type": "stream",
     "text": [
      "+-------+------------------+-----------------+------------------+-------------------+------------------------+\n",
      "|summary|          baseFare|        totalFare|    seatsRemaining|totalTravelDistance|travelDuration_inMinutes|\n",
      "+-------+------------------+-----------------+------------------+-------------------+------------------------+\n",
      "|  count|          12658477|         12658477|          12658477|           12658477|                12658477|\n",
      "|   mean| 335.9220808095832|383.0878815369044| 6.047487782297981|  1570.227316761724|      407.75594014983005|\n",
      "| stddev|193.65374002788295|210.2250309001757|2.6492748633140613|  841.1206314177331|       217.0104439426419|\n",
      "|    min|              8.72|            23.97|                 0|                121|                      62|\n",
      "|    25%|            195.35|            228.6|                 4|                862|                     238|\n",
      "|    50%|             310.7|            356.1|                 7|               1392|                     388|\n",
      "|    75%|            441.86|            498.6|                 9|               2376|                     545|\n",
      "|    max|           7662.33|          8260.61|                10|               4430|                    1437|\n",
      "+-------+------------------+-----------------+------------------+-------------------+------------------------+\n",
      "\n"
     ]
    }
   ],
   "source": [
    "# Используем метод describe для расчета статистических показателей\n",
    "# statistics = df.describe()\n",
    "\n",
    "# Можно также использовать метод summary для более подробной информации\n",
    "summary = df.summary()\n",
    "summary.show()"
   ]
  },
  {
   "cell_type": "markdown",
   "id": "9c5b3455-1f2e-4f94-a2b6-dbee01352ee2",
   "metadata": {},
   "source": [
    "# Поиск и отображение выбросов"
   ]
  },
  {
   "cell_type": "code",
   "execution_count": 12,
   "id": "40a9f19b-f318-45ef-8223-cd60977c160a",
   "metadata": {},
   "outputs": [
    {
     "name": "stdout",
     "output_type": "stream",
     "text": [
      "   isBasicEconomy  isRefundable  isNonStop  baseFare  totalFare  \\\n",
      "0           False         False      False    703.25     795.29   \n",
      "1           False         False      False    765.58     862.30   \n",
      "2           False         False      False    827.90     929.29   \n",
      "3           False         False      False    679.99     764.69   \n",
      "4           False         False      False    679.99     770.29   \n",
      "5           False         False      False    730.23     818.70   \n",
      "6           False         False      False    730.23     824.30   \n",
      "7           False         False      False    526.51     605.30   \n",
      "8           False         False      False    733.95     822.70   \n",
      "9           False         False      False    801.86     895.70   \n",
      "\n",
      "   seatsRemaining  totalTravelDistance  travelDuration_inMinutes  \\\n",
      "0               5                 2412                      1165   \n",
      "1               2                 2385                      1152   \n",
      "2               9                 2943                      1141   \n",
      "3               4                 3375                      1134   \n",
      "4               7                 3375                      1396   \n",
      "5               4                 3375                      1134   \n",
      "6               7                 3375                      1396   \n",
      "7               1                 1451                      1102   \n",
      "8               1                 2110                      1067   \n",
      "9               3                 3066                      1142   \n",
      "\n",
      "   elapsedDays_bool  \n",
      "0              True  \n",
      "1              True  \n",
      "2              True  \n",
      "3              True  \n",
      "4              True  \n",
      "5              True  \n",
      "6              True  \n",
      "7              True  \n",
      "8             False  \n",
      "9              True  \n",
      "Количество выбросов для baseFare: 176905\n",
      "Количество выбросов для totalFare: 170445\n",
      "Количество выбросов для seatsRemaining: 0\n",
      "Количество выбросов для totalTravelDistance: 0\n",
      "Количество выбросов для travelDuration_inMinutes: 89454\n"
     ]
    }
   ],
   "source": [
    "from pyspark.sql.functions import col\n",
    "\n",
    "# Колонки для поиска выбросов\n",
    "numeric_columns = ['baseFare', 'totalFare', 'seatsRemaining', 'totalTravelDistance', 'travelDuration_inMinutes']\n",
    "\n",
    "# Параметр выбросов\n",
    "outlier_threshold = 1.5\n",
    "\n",
    "# Function to remove outliers using IQR\n",
    "def count_outliers(df, column):\n",
    "    quantiles = df.approxQuantile(column, [0.25, 0.75], 0.01)\n",
    "    lower_bound = quantiles[0] - outlier_threshold * (quantiles[1] - quantiles[0])\n",
    "    upper_bound = quantiles[1] + outlier_threshold * (quantiles[1] - quantiles[0])\n",
    "    \n",
    "    # Filter and count outliers\n",
    "    outliers_count = df.filter((col(column) < lower_bound) | (col(column) > upper_bound)).count()\n",
    "    outliers_df = df.filter((col(column) < lower_bound) | (col(column) > upper_bound))\n",
    "    # Remove outliers\n",
    "    df_without_ouliers = df.filter((col(column) >= lower_bound) & (col(column) <= upper_bound))\n",
    "    \n",
    "    return outliers_df, outliers_count, df_without_ouliers\n",
    "\n",
    "# Remove outliers for each numeric column\n",
    "outliers_stats = {}\n",
    "for column in numeric_columns:\n",
    "    outliers_df, outliers_count, df_without_ouliers = count_outliers(df, column)\n",
    "    outliers_stats[column] = outliers_count\n",
    "\n",
    "# Show the cleaned DataFrame\n",
    "limited_data_pandas = outliers_df.limit(10)\n",
    "print(limited_data_pandas.toPandas())\n",
    "\n",
    "# Print the outliers statistics\n",
    "for column, count in outliers_stats.items():\n",
    "    print(f\"Количество выбросов для {column}: {count}\")"
   ]
  },
  {
   "cell_type": "code",
   "execution_count": 13,
   "id": "43177883-3e05-49bf-b049-be53098607e5",
   "metadata": {},
   "outputs": [
    {
     "name": "stdout",
     "output_type": "stream",
     "text": [
      "+-------+------------------+------------------+------------------+-------------------+------------------------+\n",
      "|summary|          baseFare|         totalFare|    seatsRemaining|totalTravelDistance|travelDuration_inMinutes|\n",
      "+-------+------------------+------------------+------------------+-------------------+------------------------+\n",
      "|  count|          12569023|          12569023|          12569023|           12569023|                12569023|\n",
      "|   mean|334.11507272762896|381.05321120297185|  6.05405623014613| 1561.2609600603007|       402.8005253868976|\n",
      "| stddev| 192.4185513556424|208.79815614943314|2.6477455426297616|  836.1843493890325|      209.51340129239583|\n",
      "|    min|              8.72|             23.97|                 0|                121|                      62|\n",
      "|    25%|            194.42|             228.6|                 4|                862|                     236|\n",
      "|    50%|            307.36|            352.51|                 7|               1392|                     386|\n",
      "|    75%|             440.0|             497.2|                 9|               2344|                     542|\n",
      "|    max|           7662.33|           8260.61|                10|               3958|                    1004|\n",
      "+-------+------------------+------------------+------------------+-------------------+------------------------+\n",
      "\n",
      "+-------+------------------+-----------------+------------------+-------------------+------------------------+\n",
      "|summary|          baseFare|        totalFare|    seatsRemaining|totalTravelDistance|travelDuration_inMinutes|\n",
      "+-------+------------------+-----------------+------------------+-------------------+------------------------+\n",
      "|  count|          12658477|         12658477|          12658477|           12658477|                12658477|\n",
      "|   mean| 335.9220808095832|383.0878815369044| 6.047487782297981|  1570.227316761724|      407.75594014983005|\n",
      "| stddev|193.65374002788295|210.2250309001757|2.6492748633140613|  841.1206314177331|       217.0104439426419|\n",
      "|    min|              8.72|            23.97|                 0|                121|                      62|\n",
      "|    25%|            195.35|            228.6|                 4|                862|                     238|\n",
      "|    50%|             310.7|            356.1|                 7|               1392|                     388|\n",
      "|    75%|            441.86|            498.6|                 9|               2376|                     545|\n",
      "|    max|           7662.33|          8260.61|                10|               4430|                    1437|\n",
      "+-------+------------------+-----------------+------------------+-------------------+------------------------+\n",
      "\n"
     ]
    }
   ],
   "source": [
    "no_outliers_summary = df_without_ouliers.summary()\n",
    "no_outliers_summary.show()\n",
    "summary.show()"
   ]
  },
  {
   "cell_type": "markdown",
   "id": "a0f046a2-e0c1-40b5-8fc3-544dd59d0090",
   "metadata": {},
   "source": [
    "# Визуализация параметра \"Цена билета\""
   ]
  },
  {
   "cell_type": "code",
   "execution_count": 14,
   "id": "9ebc887a-90a7-4e01-98de-a78091c9cf2e",
   "metadata": {},
   "outputs": [
    {
     "data": {
      "text/plain": [
       "<Axes: xlabel='totalFare', ylabel='Count'>"
      ]
     },
     "execution_count": 14,
     "metadata": {},
     "output_type": "execute_result"
    },
    {
     "data": {
      "text/plain": [
       "(0.0, 1500.0)"
      ]
     },
     "execution_count": 14,
     "metadata": {},
     "output_type": "execute_result"
    },
    {
     "data": {
      "image/png": "[encoded data removed]",
      "text/plain": [
       "<Figure size 640x480 with 1 Axes>"
      ]
     },
     "metadata": {},
     "output_type": "display_data"
    }
   ],
   "source": [
    "import pandas as pd\n",
    "import matplotlib.pyplot as plt\n",
    "import seaborn as sns\n",
    "\n",
    "# Преобразование PySpark DataFrame в Pandas DataFrame\n",
    "pandas_df = df.sample(fraction=0.3, seed=42).toPandas()\n",
    "\n",
    "# Создание гистограммы и KDE для признака 'actual_consumption' с использованием Pandas и Seaborn\n",
    "sns.histplot(data=pandas_df, x='totalFare', kde=True)\n",
    "plt.xlim(0, 1500)\n",
    "plt.show()"
   ]
  },
  {
   "cell_type": "markdown",
   "id": "f5987e89-151b-4936-aae4-26ab576e752e",
   "metadata": {},
   "source": [
    "# Визуализация параметра \"Длительность полета\""
   ]
  },
  {
   "cell_type": "code",
   "execution_count": 15,
   "id": "983f54e2-53ff-4709-8e3d-0e99cfab1590",
   "metadata": {},
   "outputs": [
    {
     "data": {
      "text/plain": [
       "<Axes: xlabel='travelDuration_inMinutes', ylabel='Count'>"
      ]
     },
     "execution_count": 15,
     "metadata": {},
     "output_type": "execute_result"
    },
    {
     "data": {
      "image/png": "[encoded data removed]",
      "text/plain": [
       "<Figure size 640x480 with 1 Axes>"
      ]
     },
     "metadata": {},
     "output_type": "display_data"
    }
   ],
   "source": [
    "import pandas as pd\n",
    "import matplotlib.pyplot as plt\n",
    "import seaborn as sns\n",
    "\n",
    "# Преобразование PySpark DataFrame в Pandas DataFrame\n",
    "pandas_df = df.sample(fraction=0.3, seed=42).toPandas()\n",
    "\n",
    "# Создание гистограммы и KDE для признака 'actual_consumption' с использованием Pandas и Seaborn\n",
    "sns.histplot(data=pandas_df, x='travelDuration_inMinutes', kde=True)\n",
    "plt.show()"
   ]
  },
  {
   "cell_type": "markdown",
   "id": "fc95ac69-89e9-4b1c-8133-e2c32133cca5",
   "metadata": {},
   "source": [
    "# Визуализация параметра расстояния полета"
   ]
  },
  {
   "cell_type": "code",
   "execution_count": 16,
   "id": "22e4e1f0-e67f-4582-bf34-138f5dd2c1e3",
   "metadata": {},
   "outputs": [
    {
     "data": {
      "text/plain": [
       "<Axes: xlabel='totalTravelDistance', ylabel='Count'>"
      ]
     },
     "execution_count": 16,
     "metadata": {},
     "output_type": "execute_result"
    },
    {
     "data": {
      "image/png": "[encoded data removed]",
      "text/plain": [
       "<Figure size 640x480 with 1 Axes>"
      ]
     },
     "metadata": {},
     "output_type": "display_data"
    }
   ],
   "source": [
    "import pandas as pd\n",
    "import matplotlib.pyplot as plt\n",
    "import seaborn as sns\n",
    "\n",
    "# Преобразование PySpark DataFrame в Pandas DataFrame\n",
    "pandas_df = df.sample(fraction=0.3, seed=42).toPandas()\n",
    "\n",
    "# Создание гистограммы и KDE для признака 'actual_consumption' с использованием Pandas и Seaborn\n",
    "sns.histplot(data=pandas_df, x='totalTravelDistance', kde=True)\n",
    "plt.show()"
   ]
  },
  {
   "cell_type": "markdown",
   "id": "235d55ef-bf60-4141-ab95-2962afac9e51",
   "metadata": {},
   "source": [
    "# Визуализация параметра наличия возможности возврата билета"
   ]
  },
  {
   "cell_type": "code",
   "execution_count": 17,
   "id": "1cbabf77-ae72-4588-ada3-a5334401b497",
   "metadata": {},
   "outputs": [
    {
     "data": {
      "text/plain": [
       "<Figure size 600x400 with 0 Axes>"
      ]
     },
     "execution_count": 17,
     "metadata": {},
     "output_type": "execute_result"
    },
    {
     "data": {
      "text/plain": [
       "<Axes: xlabel='isRefundable'>"
      ]
     },
     "execution_count": 17,
     "metadata": {},
     "output_type": "execute_result"
    },
    {
     "data": {
      "text/plain": [
       "Text(0.5, 1.0, 'Distribution of isRefundable')"
      ]
     },
     "execution_count": 17,
     "metadata": {},
     "output_type": "execute_result"
    },
    {
     "data": {
      "text/plain": [
       "Text(0.5, 0, 'isRefundable')"
      ]
     },
     "execution_count": 17,
     "metadata": {},
     "output_type": "execute_result"
    },
    {
     "data": {
      "text/plain": [
       "Text(0, 0.5, 'Count')"
      ]
     },
     "execution_count": 17,
     "metadata": {},
     "output_type": "execute_result"
    },
    {
     "data": {
      "text/plain": [
       "(array([0, 1]), [Text(0, 0, 'False'), Text(1, 0, 'True')])"
      ]
     },
     "execution_count": 17,
     "metadata": {},
     "output_type": "execute_result"
    },
    {
     "data": {
      "image/png": "[encoded data removed]",
      "text/plain": [
       "<Figure size 600x400 with 1 Axes>"
      ]
     },
     "metadata": {},
     "output_type": "display_data"
    }
   ],
   "source": [
    "# Преобразовываем PySpark DataFrame в Pandas DataFrame для визуализации\n",
    "pandas_df = df.select(\"isRefundable\").toPandas()\n",
    "\n",
    "# Строим гистограмму\n",
    "plt.figure(figsize=(6, 4))\n",
    "pandas_df['isRefundable'].value_counts().plot(kind='bar', color=['blue', 'red'], alpha=0.7)\n",
    "plt.title('Distribution of isRefundable')\n",
    "plt.xlabel('isRefundable')\n",
    "plt.ylabel('Count')\n",
    "plt.xticks(rotation='horizontal')\n",
    "plt.show()"
   ]
  },
  {
   "cell_type": "code",
   "execution_count": 18,
   "id": "aff4bf55-e926-4294-bf39-c3d6e7498ba4",
   "metadata": {},
   "outputs": [
    {
     "name": "stdout",
     "output_type": "stream",
     "text": [
      "+------------+--------+\n",
      "|isRefundable|   count|\n",
      "+------------+--------+\n",
      "|        true|     198|\n",
      "|       false|12658279|\n",
      "+------------+--------+\n",
      "\n"
     ]
    }
   ],
   "source": [
    "# Подсчитываем количество значений 'True' и 'False'\n",
    "count_values = df.groupBy(\"isRefundable\").count()\n",
    "\n",
    "# Выводим результат\n",
    "count_values.show()"
   ]
  },
  {
   "cell_type": "markdown",
   "id": "50e989d9-c885-42e1-b343-fdd2c6bf1426",
   "metadata": {},
   "source": [
    "# Визуализация параметра isBasicEconomy"
   ]
  },
  {
   "cell_type": "code",
   "execution_count": 19,
   "id": "ad33ab2c-3469-472d-8235-a965f7c173f5",
   "metadata": {},
   "outputs": [
    {
     "data": {
      "text/plain": [
       "<Figure size 600x400 with 0 Axes>"
      ]
     },
     "execution_count": 19,
     "metadata": {},
     "output_type": "execute_result"
    },
    {
     "data": {
      "text/plain": [
       "<Axes: xlabel='isBasicEconomy'>"
      ]
     },
     "execution_count": 19,
     "metadata": {},
     "output_type": "execute_result"
    },
    {
     "data": {
      "text/plain": [
       "Text(0.5, 1.0, 'Distribution of isBasicEconomy')"
      ]
     },
     "execution_count": 19,
     "metadata": {},
     "output_type": "execute_result"
    },
    {
     "data": {
      "text/plain": [
       "Text(0.5, 0, 'isBasicEconomy')"
      ]
     },
     "execution_count": 19,
     "metadata": {},
     "output_type": "execute_result"
    },
    {
     "data": {
      "text/plain": [
       "Text(0, 0.5, 'Count')"
      ]
     },
     "execution_count": 19,
     "metadata": {},
     "output_type": "execute_result"
    },
    {
     "data": {
      "text/plain": [
       "(array([0, 1]), [Text(0, 0, 'False'), Text(1, 0, 'True')])"
      ]
     },
     "execution_count": 19,
     "metadata": {},
     "output_type": "execute_result"
    },
    {
     "data": {
      "image/png": "[encoded data removed]",
      "text/plain": [
       "<Figure size 600x400 with 1 Axes>"
      ]
     },
     "metadata": {},
     "output_type": "display_data"
    }
   ],
   "source": [
    "# Преобразовываем PySpark DataFrame в Pandas DataFrame для визуализации\n",
    "pandas_df = df.select(\"isBasicEconomy\").toPandas()\n",
    "\n",
    "# Строим гистограмму\n",
    "plt.figure(figsize=(6, 4))\n",
    "pandas_df['isBasicEconomy'].value_counts().plot(kind='bar', color=['blue', 'red'], alpha=0.7)\n",
    "plt.title('Distribution of isBasicEconomy')\n",
    "plt.xlabel('isBasicEconomy')\n",
    "plt.ylabel('Count')\n",
    "plt.xticks(rotation='horizontal')\n",
    "plt.show()"
   ]
  },
  {
   "cell_type": "markdown",
   "id": "4737bf99-c5e7-444d-b20a-bee94325e4ce",
   "metadata": {},
   "source": [
    "# Визуализация параметра полета без пересадок"
   ]
  },
  {
   "cell_type": "code",
   "execution_count": 20,
   "id": "6c61ea43-e707-4759-9173-987fe6636ffe",
   "metadata": {},
   "outputs": [
    {
     "data": {
      "text/plain": [
       "<Figure size 600x400 with 0 Axes>"
      ]
     },
     "execution_count": 20,
     "metadata": {},
     "output_type": "execute_result"
    },
    {
     "data": {
      "text/plain": [
       "<Axes: xlabel='isNonStop'>"
      ]
     },
     "execution_count": 20,
     "metadata": {},
     "output_type": "execute_result"
    },
    {
     "data": {
      "text/plain": [
       "Text(0.5, 1.0, 'Distribution of isNonStop')"
      ]
     },
     "execution_count": 20,
     "metadata": {},
     "output_type": "execute_result"
    },
    {
     "data": {
      "text/plain": [
       "Text(0.5, 0, 'isNonStop')"
      ]
     },
     "execution_count": 20,
     "metadata": {},
     "output_type": "execute_result"
    },
    {
     "data": {
      "text/plain": [
       "Text(0, 0.5, 'Count')"
      ]
     },
     "execution_count": 20,
     "metadata": {},
     "output_type": "execute_result"
    },
    {
     "data": {
      "text/plain": [
       "(array([0, 1]), [Text(0, 0, 'False'), Text(1, 0, 'True')])"
      ]
     },
     "execution_count": 20,
     "metadata": {},
     "output_type": "execute_result"
    },
    {
     "data": {
      "image/png": "[encoded data removed]",
      "text/plain": [
       "<Figure size 600x400 with 1 Axes>"
      ]
     },
     "metadata": {},
     "output_type": "display_data"
    }
   ],
   "source": [
    "# Преобразовываем PySpark DataFrame в Pandas DataFrame для визуализации\n",
    "pandas_df = df.select(\"isNonStop\").toPandas()\n",
    "\n",
    "# Строим гистограмму\n",
    "plt.figure(figsize=(6, 4))\n",
    "pandas_df['isNonStop'].value_counts().plot(kind='bar', color=['blue', 'red'], alpha=0.7)\n",
    "plt.title('Distribution of isNonStop')\n",
    "plt.xlabel('isNonStop')\n",
    "plt.ylabel('Count')\n",
    "plt.xticks(rotation='horizontal')\n",
    "plt.show()"
   ]
  },
  {
   "cell_type": "markdown",
   "id": "29fa1d1e-7e9a-4e6c-b840-af78d9326a8a",
   "metadata": {},
   "source": [
    "# Визуализация параметра отложенных вылетов"
   ]
  },
  {
   "cell_type": "code",
   "execution_count": 21,
   "id": "bf8bc8b4-7221-476c-bb1e-64a1f2a2b38e",
   "metadata": {},
   "outputs": [
    {
     "data": {
      "text/plain": [
       "<Figure size 600x400 with 0 Axes>"
      ]
     },
     "execution_count": 21,
     "metadata": {},
     "output_type": "execute_result"
    },
    {
     "data": {
      "text/plain": [
       "<Axes: xlabel='elapsedDays_bool'>"
      ]
     },
     "execution_count": 21,
     "metadata": {},
     "output_type": "execute_result"
    },
    {
     "data": {
      "text/plain": [
       "Text(0.5, 1.0, 'Distribution of elapsedDays_bool')"
      ]
     },
     "execution_count": 21,
     "metadata": {},
     "output_type": "execute_result"
    },
    {
     "data": {
      "text/plain": [
       "Text(0.5, 0, 'elapsedDays_bool')"
      ]
     },
     "execution_count": 21,
     "metadata": {},
     "output_type": "execute_result"
    },
    {
     "data": {
      "text/plain": [
       "Text(0, 0.5, 'Count')"
      ]
     },
     "execution_count": 21,
     "metadata": {},
     "output_type": "execute_result"
    },
    {
     "data": {
      "text/plain": [
       "(array([0, 1]), [Text(0, 0, 'False'), Text(1, 0, 'True')])"
      ]
     },
     "execution_count": 21,
     "metadata": {},
     "output_type": "execute_result"
    },
    {
     "data": {
      "image/png": "[encoded data removed]",
      "text/plain": [
       "<Figure size 600x400 with 1 Axes>"
      ]
     },
     "metadata": {},
     "output_type": "display_data"
    }
   ],
   "source": [
    "# Преобразовываем PySpark DataFrame в Pandas DataFrame для визуализации\n",
    "pandas_df = df.select(\"elapsedDays_bool\").toPandas()\n",
    "\n",
    "# Строим гистограмму\n",
    "plt.figure(figsize=(6, 4))\n",
    "pandas_df['elapsedDays_bool'].value_counts().plot(kind='bar', color=['blue', 'red'], alpha=0.7)\n",
    "plt.title('Distribution of elapsedDays_bool')\n",
    "plt.xlabel('elapsedDays_bool')\n",
    "plt.ylabel('Count')\n",
    "plt.xticks(rotation='horizontal')\n",
    "plt.show()"
   ]
  },
  {
   "cell_type": "markdown",
   "id": "a02c0c36-1e1e-40e0-8d56-5516517a0b54",
   "metadata": {},
   "source": [
    "# Корреляция признаков"
   ]
  },
  {
   "cell_type": "code",
   "execution_count": null,
   "id": "d157ef2d-456f-450c-a412-4224100a75e9",
   "metadata": {},
   "outputs": [],
   "source": [
    "# Выбираем нужные колонки\n",
    "selected_columns = [\"isBasicEconomy\", \"isRefundable\", \"isNonStop\", \"baseFare\", \"totalFare\", \"seatsRemaining\", \"totalTravelDistance\", \"travelDuration_inMinutes\", \"elapsedDays_bool\"]\n",
    "\n",
    "# Подсчет корреляции\n",
    "correlation_matrix = df.toPandas().corr()\n",
    "\n",
    "# Построение хитмапа\n",
    "plt.figure(figsize=(10, 8))\n",
    "sns.heatmap(correlation_matrix, annot=True, cmap=\"coolwarm\", fmt=\".2f\", linewidths=.5)\n",
    "plt.title('Correlation Matrix Heatmap')\n",
    "plt.show()"
   ]
  },
  {
   "cell_type": "code",
   "execution_count": 22,
   "id": "2c14c829-a1b3-43da-964f-6c35c64f0bc2",
   "metadata": {},
   "outputs": [
    {
     "name": "stdout",
     "output_type": "stream",
     "text": [
      "+--------------+------------+---------+--------+---------+--------------+-------------------+------------------------+----------------+\n",
      "|isBasicEconomy|isRefundable|isNonStop|baseFare|totalFare|seatsRemaining|totalTravelDistance|travelDuration_inMinutes|elapsedDays_bool|\n",
      "+--------------+------------+---------+--------+---------+--------------+-------------------+------------------------+----------------+\n",
      "|         false|       false|     true|  217.67|    248.6|             9|                947|                     149|           false|\n",
      "|         false|       false|     true|  217.67|    248.6|             4|                947|                     150|           false|\n",
      "|         false|       false|     true|  217.67|    248.6|             9|                947|                     150|           false|\n",
      "|         false|       false|     true|  217.67|    248.6|             8|                947|                     152|           false|\n",
      "|         false|       false|     true|  217.67|    248.6|             9|                947|                     154|           false|\n",
      "|         false|       false|     true|  217.67|    248.6|             7|                947|                     158|           false|\n",
      "|         false|       false|    false|  213.02|    251.1|             3|                956|                     252|           false|\n",
      "|         false|       false|    false|  213.02|    251.1|             3|                956|                     318|           false|\n",
      "|         false|       false|    false|  213.02|    251.1|             7|                956|                     332|           false|\n",
      "|         false|       false|    false|  213.02|    251.1|             7|                956|                     398|           false|\n",
      "|         false|       false|    false|  213.02|    252.6|             1|                947|                     286|           false|\n",
      "|         false|       false|    false|  213.02|    252.6|             3|               1462|                     345|           false|\n",
      "|         false|       false|    false|  213.02|    252.6|             5|               1462|                     359|           false|\n",
      "|         false|       false|    false|  213.02|    252.6|             3|               1462|                     438|           false|\n",
      "|         false|       false|    false|  213.02|    252.6|             2|               1462|                     490|           false|\n",
      "|         false|       false|     true|  265.58|    300.1|             7|                947|                     158|           false|\n",
      "|         false|       false|    false|  260.47|   302.11|             1|                956|                     257|           false|\n",
      "|         false|       false|    false|  260.47|   302.11|             1|                956|                     276|           false|\n",
      "|         false|       false|    false|  260.47|   302.11|             1|                956|                     285|           false|\n",
      "|         false|       false|    false|  260.47|   302.11|             1|                956|                     362|           false|\n",
      "+--------------+------------+---------+--------+---------+--------------+-------------------+------------------------+----------------+\n",
      "only showing top 20 rows\n",
      "\n"
     ]
    }
   ],
   "source": [
    "df.show()"
   ]
  },
  {
   "cell_type": "code",
   "execution_count": 24,
   "id": "bf1e54b5-537a-4c57-8e87-d39bb126395b",
   "metadata": {},
   "outputs": [
    {
     "data": {
      "text/html": [
       "<div>\n",
       "<style scoped>\n",
       "    .dataframe tbody tr th:only-of-type {\n",
       "        vertical-align: middle;\n",
       "    }\n",
       "\n",
       "    .dataframe tbody tr th {\n",
       "        vertical-align: top;\n",
       "    }\n",
       "\n",
       "    .dataframe thead th {\n",
       "        text-align: right;\n",
       "    }\n",
       "</style>\n",
       "<table border=\"1\" class=\"dataframe\">\n",
       "  <thead>\n",
       "    <tr style=\"text-align: right;\">\n",
       "      <th></th>\n",
       "      <th>isBasicEconomy</th>\n",
       "      <th>isRefundable</th>\n",
       "      <th>isNonStop</th>\n",
       "      <th>baseFare</th>\n",
       "      <th>totalFare</th>\n",
       "      <th>seatsRemaining</th>\n",
       "      <th>totalTravelDistance</th>\n",
       "      <th>travelDuration_inMinutes</th>\n",
       "      <th>elapsedDays_bool</th>\n",
       "    </tr>\n",
       "  </thead>\n",
       "  <tbody>\n",
       "    <tr>\n",
       "      <th>isBasicEconomy</th>\n",
       "      <td>1.000000</td>\n",
       "      <td>-0.076226</td>\n",
       "      <td>0.320874</td>\n",
       "      <td>-0.712866</td>\n",
       "      <td>-0.709031</td>\n",
       "      <td>0.447851</td>\n",
       "      <td>-0.588918</td>\n",
       "      <td>-0.459714</td>\n",
       "      <td>-0.263144</td>\n",
       "    </tr>\n",
       "    <tr>\n",
       "      <th>isRefundable</th>\n",
       "      <td>-0.076226</td>\n",
       "      <td>1.000000</td>\n",
       "      <td>0.045740</td>\n",
       "      <td>-0.183048</td>\n",
       "      <td>-0.182223</td>\n",
       "      <td>-0.126616</td>\n",
       "      <td>-0.220350</td>\n",
       "      <td>-0.165372</td>\n",
       "      <td>-0.221349</td>\n",
       "    </tr>\n",
       "    <tr>\n",
       "      <th>isNonStop</th>\n",
       "      <td>0.320874</td>\n",
       "      <td>0.045740</td>\n",
       "      <td>1.000000</td>\n",
       "      <td>-0.696153</td>\n",
       "      <td>-0.709142</td>\n",
       "      <td>0.401769</td>\n",
       "      <td>-0.847580</td>\n",
       "      <td>-0.963041</td>\n",
       "      <td>-0.513510</td>\n",
       "    </tr>\n",
       "    <tr>\n",
       "      <th>baseFare</th>\n",
       "      <td>-0.712866</td>\n",
       "      <td>-0.183048</td>\n",
       "      <td>-0.696153</td>\n",
       "      <td>1.000000</td>\n",
       "      <td>0.999828</td>\n",
       "      <td>-0.491680</td>\n",
       "      <td>0.825381</td>\n",
       "      <td>0.748059</td>\n",
       "      <td>0.252724</td>\n",
       "    </tr>\n",
       "    <tr>\n",
       "      <th>totalFare</th>\n",
       "      <td>-0.709031</td>\n",
       "      <td>-0.182223</td>\n",
       "      <td>-0.709142</td>\n",
       "      <td>0.999828</td>\n",
       "      <td>1.000000</td>\n",
       "      <td>-0.494439</td>\n",
       "      <td>0.832424</td>\n",
       "      <td>0.759802</td>\n",
       "      <td>0.262475</td>\n",
       "    </tr>\n",
       "    <tr>\n",
       "      <th>seatsRemaining</th>\n",
       "      <td>0.447851</td>\n",
       "      <td>-0.126616</td>\n",
       "      <td>0.401769</td>\n",
       "      <td>-0.491680</td>\n",
       "      <td>-0.494439</td>\n",
       "      <td>1.000000</td>\n",
       "      <td>-0.549434</td>\n",
       "      <td>-0.526000</td>\n",
       "      <td>-0.351943</td>\n",
       "    </tr>\n",
       "    <tr>\n",
       "      <th>totalTravelDistance</th>\n",
       "      <td>-0.588918</td>\n",
       "      <td>-0.220350</td>\n",
       "      <td>-0.847580</td>\n",
       "      <td>0.825381</td>\n",
       "      <td>0.832424</td>\n",
       "      <td>-0.549434</td>\n",
       "      <td>1.000000</td>\n",
       "      <td>0.930038</td>\n",
       "      <td>0.459725</td>\n",
       "    </tr>\n",
       "    <tr>\n",
       "      <th>travelDuration_inMinutes</th>\n",
       "      <td>-0.459714</td>\n",
       "      <td>-0.165372</td>\n",
       "      <td>-0.963041</td>\n",
       "      <td>0.748059</td>\n",
       "      <td>0.759802</td>\n",
       "      <td>-0.526000</td>\n",
       "      <td>0.930038</td>\n",
       "      <td>1.000000</td>\n",
       "      <td>0.555332</td>\n",
       "    </tr>\n",
       "    <tr>\n",
       "      <th>elapsedDays_bool</th>\n",
       "      <td>-0.263144</td>\n",
       "      <td>-0.221349</td>\n",
       "      <td>-0.513510</td>\n",
       "      <td>0.252724</td>\n",
       "      <td>0.262475</td>\n",
       "      <td>-0.351943</td>\n",
       "      <td>0.459725</td>\n",
       "      <td>0.555332</td>\n",
       "      <td>1.000000</td>\n",
       "    </tr>\n",
       "  </tbody>\n",
       "</table>\n",
       "</div>"
      ],
      "text/plain": [
       "                          isBasicEconomy  isRefundable  isNonStop  baseFare  \\\n",
       "isBasicEconomy                  1.000000     -0.076226   0.320874 -0.712866   \n",
       "isRefundable                   -0.076226      1.000000   0.045740 -0.183048   \n",
       "isNonStop                       0.320874      0.045740   1.000000 -0.696153   \n",
       "baseFare                       -0.712866     -0.183048  -0.696153  1.000000   \n",
       "totalFare                      -0.709031     -0.182223  -0.709142  0.999828   \n",
       "seatsRemaining                  0.447851     -0.126616   0.401769 -0.491680   \n",
       "totalTravelDistance            -0.588918     -0.220350  -0.847580  0.825381   \n",
       "travelDuration_inMinutes       -0.459714     -0.165372  -0.963041  0.748059   \n",
       "elapsedDays_bool               -0.263144     -0.221349  -0.513510  0.252724   \n",
       "\n",
       "                          totalFare  seatsRemaining  totalTravelDistance  \\\n",
       "isBasicEconomy            -0.709031        0.447851            -0.588918   \n",
       "isRefundable              -0.182223       -0.126616            -0.220350   \n",
       "isNonStop                 -0.709142        0.401769            -0.847580   \n",
       "baseFare                   0.999828       -0.491680             0.825381   \n",
       "totalFare                  1.000000       -0.494439             0.832424   \n",
       "seatsRemaining            -0.494439        1.000000            -0.549434   \n",
       "totalTravelDistance        0.832424       -0.549434             1.000000   \n",
       "travelDuration_inMinutes   0.759802       -0.526000             0.930038   \n",
       "elapsedDays_bool           0.262475       -0.351943             0.459725   \n",
       "\n",
       "                          travelDuration_inMinutes  elapsedDays_bool  \n",
       "isBasicEconomy                           -0.459714         -0.263144  \n",
       "isRefundable                             -0.165372         -0.221349  \n",
       "isNonStop                                -0.963041         -0.513510  \n",
       "baseFare                                  0.748059          0.252724  \n",
       "totalFare                                 0.759802          0.262475  \n",
       "seatsRemaining                           -0.526000         -0.351943  \n",
       "totalTravelDistance                       0.930038          0.459725  \n",
       "travelDuration_inMinutes                  1.000000          0.555332  \n",
       "elapsedDays_bool                          0.555332          1.000000  "
      ]
     },
     "execution_count": 24,
     "metadata": {},
     "output_type": "execute_result"
    }
   ],
   "source": [
    "from pyspark.ml.feature import VectorAssembler, Bucketizer\n",
    "from pyspark.ml.stat import Correlation\n",
    "\n",
    "# Выбираем нужные колонки\n",
    "selected_columns = [\"isBasicEconomy\", \"isRefundable\", \"isNonStop\", \"baseFare\", \"totalFare\", \"seatsRemaining\", \"totalTravelDistance\", \"travelDuration_inMinutes\", \"elapsedDays_bool\"]\n",
    "\n",
    "# Создаем VectorAssembler для объединения признаков в один вектор\n",
    "vector_assembler = VectorAssembler(inputCols=selected_columns, outputCol=\"features\")\n",
    "\n",
    "# Применяем VectorAssembler к данным\n",
    "data = vector_assembler.transform(df)\n",
    "\n",
    "# Вычисляем матрицу корреляции\n",
    "correlation_matrix = Correlation.corr(data, \"features\").head()\n",
    "correlation_array = correlation_matrix[0].toArray()\n",
    "\n",
    "# Выводим матрицу корреляции\n",
    "correlation_df = pd.DataFrame(correlation_array, columns=selected_columns)\n",
    "correlation_df.corr()"
   ]
  },
  {
   "cell_type": "code",
   "execution_count": 25,
   "id": "3cf329fe-c1cb-4dd6-a080-cf5a208cec8e",
   "metadata": {},
   "outputs": [
    {
     "data": {
      "text/plain": [
       "<Figure size 1200x800 with 0 Axes>"
      ]
     },
     "execution_count": 25,
     "metadata": {},
     "output_type": "execute_result"
    },
    {
     "data": {
      "text/plain": [
       "<Axes: >"
      ]
     },
     "execution_count": 25,
     "metadata": {},
     "output_type": "execute_result"
    },
    {
     "data": {
      "text/plain": [
       "Text(0.5, 1.0, 'Матрица корреляции признаков')"
      ]
     },
     "execution_count": 25,
     "metadata": {},
     "output_type": "execute_result"
    },
    {
     "data": {
      "image/png": "[encoded data removed]",
      "text/plain": [
       "<Figure size 1200x800 with 2 Axes>"
      ]
     },
     "metadata": {},
     "output_type": "display_data"
    }
   ],
   "source": [
    "plt.figure(figsize=(12, 8))\n",
    "sns.heatmap(correlation_df.corr(), annot=True, cmap=\"coolwarm\", fmt=\".2f\", linewidths=.5)\n",
    "plt.title('Матрица корреляции признаков')\n",
    "plt.show()"
   ]
  },
  {
   "cell_type": "code",
   "execution_count": null,
   "id": "1a0e810f-edfe-41e0-8c16-31acb9520e12",
   "metadata": {},
   "outputs": [],
   "source": []
  }
 ],
 "metadata": {
  "kernelspec": {
   "display_name": "Python 3 (ipykernel)",
   "language": "python",
   "name": "python3"
  },
  "language_info": {
   "codemirror_mode": {
    "name": "ipython",
    "version": 3
   },
   "file_extension": ".py",
   "mimetype": "text/x-python",
   "name": "python",
   "nbconvert_exporter": "python",
   "pygments_lexer": "ipython3",
   "version": "3.11.6"
  }
 },
 "nbformat": 4,
 "nbformat_minor": 5
}
